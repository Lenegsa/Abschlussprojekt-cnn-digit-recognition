{
 "cells": [
  {
   "cell_type": "code",
   "execution_count": null,
   "metadata": {},
   "outputs": [
    {
     "name": "stderr",
     "output_type": "stream",
     "text": [
      "WARNING:absl:Compiled the loaded model, but the compiled metrics have yet to be built. `model.compile_metrics` will be empty until you train or evaluate the model.\n"
     ]
    },
    {
     "data": {
      "image/png": "[encoded data removed]",
      "text/plain": [
       "<Figure size 640x480 with 1 Axes>"
      ]
     },
     "metadata": {},
     "output_type": "display_data"
    }
   ],
   "source": [
    "from PIL import Image\n",
    "import numpy as np\n",
    "import matplotlib.pyplot as plt\n",
    "from tensorflow.keras.models import load_model\n",
    "\n",
    "\n",
    "# Load modell\n",
    "model = load_model('number_recognition_model_noisy_5.h5') \n",
    "\n",
    "def preprocess_image(image_path):\n",
    "    # Load image with PiL \n",
    "    img = Image.open(image_path).convert('L')  # greyscale\n",
    "    \n",
    "    # Resize 28*28\n",
    "    img = img.resize((28, 28))\n",
    "    \n",
    "    # Convert to numpy array\n",
    "    img_array = np.array(img)\n",
    "    \n",
    "    # Invert to black number - white background => white number, black background\n",
    "    img_array = 255 - img_array\n",
    "    \n",
    "    # Normalisation\n",
    "    img_array = img_array / 255.0\n",
    "    # reshape to modell\n",
    "    img_tensor = img_array.reshape(1, 28, 28, 1)\n",
    "    \n",
    "    # Print image \n",
    "    import matplotlib.pyplot as plt \n",
    "    plt.imshow(img_tensor[0]) \n",
    "    plt.show() \n",
    "    \n",
    "preprocess_image('9_6.png')"
   ]
  },
  {
   "cell_type": "code",
   "execution_count": null,
   "metadata": {},
   "outputs": [
    {
     "ename": "ModuleNotFoundError",
     "evalue": "No module named 'visualkeras'",
     "output_type": "error",
     "traceback": [
      "\u001b[1;31m---------------------------------------------------------------------------\u001b[0m",
      "\u001b[1;31mModuleNotFoundError\u001b[0m                       Traceback (most recent call last)",
      "Cell \u001b[1;32mIn[4], line 1\u001b[0m\n\u001b[1;32m----> 1\u001b[0m \u001b[38;5;28;01mimport\u001b[39;00m\u001b[38;5;250m \u001b[39m\u001b[38;5;21;01mvisualkeras\u001b[39;00m\n\u001b[0;32m      3\u001b[0m model \u001b[38;5;241m=\u001b[39m load_model(\u001b[38;5;124m'\u001b[39m\u001b[38;5;124mnumber_recognition_model_noisy_5.h5\u001b[39m\u001b[38;5;124m'\u001b[39m) \n\u001b[0;32m      5\u001b[0m visualkeras\u001b[38;5;241m.\u001b[39mlayered_view(model)\u001b[38;5;241m.\u001b[39mshow() \u001b[38;5;66;03m# display using your system viewer\u001b[39;00m\n",
      "\u001b[1;31mModuleNotFoundError\u001b[0m: No module named 'visualkeras'"
     ]
    }
   ],
   "source": [
    "import visualkeras\n",
    "\n",
    "model = load_model('number_recognition_model_noisy_5.h5') \n",
    "\n",
    "visualkeras.layered_view(model).show() # display using your system viewer\n",
    "\n",
    "visualkeras.layered_view(model)"
   ]
  }
 ],
 "metadata": {
  "kernelspec": {
   "display_name": "venv_py310",
   "language": "python",
   "name": "python3"
  },
  "language_info": {
   "codemirror_mode": {
    "name": "ipython",
    "version": 3
   },
   "file_extension": ".py",
   "mimetype": "text/x-python",
   "name": "python",
   "nbconvert_exporter": "python",
   "pygments_lexer": "ipython3",
   "version": "3.10.0"
  }
 },
 "nbformat": 4,
 "nbformat_minor": 2
}
