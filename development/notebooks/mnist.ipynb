{
 "cells": [
  {
   "cell_type": "markdown",
   "metadata": {},
   "source": [
    "Mnist (mnits documentacion)"
   ]
  },
  {
   "cell_type": "markdown",
   "metadata": {},
   "source": [
    "Just Practice"
   ]
  },
  {
   "cell_type": "code",
   "execution_count": 1,
   "metadata": {},
   "outputs": [
    {
     "data": {
      "image/png": "[encoded data removed]",
      "text/plain": [
       "<Figure size 1000x500 with 6 Axes>"
      ]
     },
     "metadata": {},
     "output_type": "display_data"
    }
   ],
   "source": [
    "import tensorflow as tf\n",
    "from tensorflow.keras.datasets import mnist\n",
    "import matplotlib.pyplot as plt\n",
    "import numpy as np\n",
    "\n",
    "# Load the MNIST dataset\n",
    "(X_train, y_train), (_, _) = mnist.load_data()\n",
    "\n",
    "# Print 4 images in a row\n",
    "plt.figure(figsize=(10, 5))\n",
    "for i in range(6):\n",
    "    plt.subplot(1, 6, i+1)\n",
    "    plt.imshow(X_train[i], cmap='gray')\n",
    "    plt.title(f\"Label: {y_train[i]}\")\n",
    "    plt.axis('off')\n",
    "plt.tight_layout()\n",
    "plt.show()\n"
   ]
  },
  {
   "cell_type": "markdown",
   "metadata": {},
   "source": [
    "Fully connected modell (mnits documentacion)"
   ]
  },
  {
   "cell_type": "code",
   "execution_count": 2,
   "metadata": {},
   "outputs": [
    {
     "name": "stdout",
     "output_type": "stream",
     "text": [
      "Epoch 1/5\n"
     ]
    },
    {
     "name": "stderr",
     "output_type": "stream",
     "text": [
      "c:\\Users\\natib\\OneDrive\\Documents\\Abschlussprojekt-cnn-digit-recognition\\venv_py310\\lib\\site-packages\\keras\\src\\layers\\core\\dense.py:87: UserWarning: Do not pass an `input_shape`/`input_dim` argument to a layer. When using Sequential models, prefer using an `Input(shape)` object as the first layer in the model instead.\n",
      "  super().__init__(activity_regularizer=activity_regularizer, **kwargs)\n"
     ]
    },
    {
     "name": "stdout",
     "output_type": "stream",
     "text": [
      "\u001b[1m1875/1875\u001b[0m \u001b[32m━━━━━━━━━━━━━━━━━━━━\u001b[0m\u001b[37m\u001b[0m \u001b[1m2s\u001b[0m 980us/step - accuracy: 0.8768 - loss: 0.4360\n",
      "Epoch 2/5\n",
      "\u001b[1m1875/1875\u001b[0m \u001b[32m━━━━━━━━━━━━━━━━━━━━\u001b[0m\u001b[37m\u001b[0m \u001b[1m2s\u001b[0m 941us/step - accuracy: 0.9629 - loss: 0.1271\n",
      "Epoch 3/5\n",
      "\u001b[1m1875/1875\u001b[0m \u001b[32m━━━━━━━━━━━━━━━━━━━━\u001b[0m\u001b[37m\u001b[0m \u001b[1m2s\u001b[0m 950us/step - accuracy: 0.9753 - loss: 0.0826\n",
      "Epoch 4/5\n",
      "\u001b[1m1875/1875\u001b[0m \u001b[32m━━━━━━━━━━━━━━━━━━━━\u001b[0m\u001b[37m\u001b[0m \u001b[1m2s\u001b[0m 955us/step - accuracy: 0.9826 - loss: 0.0589\n",
      "Epoch 5/5\n",
      "\u001b[1m1875/1875\u001b[0m \u001b[32m━━━━━━━━━━━━━━━━━━━━\u001b[0m\u001b[37m\u001b[0m \u001b[1m2s\u001b[0m 962us/step - accuracy: 0.9857 - loss: 0.0460\n",
      "\u001b[1m313/313\u001b[0m \u001b[32m━━━━━━━━━━━━━━━━━━━━\u001b[0m\u001b[37m\u001b[0m \u001b[1m0s\u001b[0m 711us/step - accuracy: 0.9763 - loss: 0.0777\n",
      "Test accuracy: 0.9779000282287598\n"
     ]
    }
   ],
   "source": [
    "import tensorflow as tf\n",
    "from tensorflow.keras.models import Sequential\n",
    "from tensorflow.keras.layers import Dense\n",
    "from tensorflow.keras.datasets import mnist\n",
    "\n",
    "# Load the MNIST dataset\n",
    "(train_images, train_labels), (test_images, test_labels) = mnist.load_data()\n",
    "\n",
    "# Preprocess the data: flatten the images and normalize the pixel values\n",
    "train_images = train_images.reshape((train_images.shape[0], 28 * 28)).astype('float32') / 255\n",
    "test_images = test_images.reshape((test_images.shape[0], 28 * 28)).astype('float32') / 255\n",
    "\n",
    "# Build the model\n",
    "model = Sequential([\n",
    "    Dense(128, activation='relu', input_shape=(28 * 28,)),\n",
    "    Dense(10, activation='softmax')\n",
    "])\n",
    "\n",
    "# Compile the model\n",
    "model.compile(optimizer='adam', loss='sparse_categorical_crossentropy', metrics=['accuracy'])\n",
    "\n",
    "# Train the model\n",
    "model.fit(train_images, train_labels, epochs=5)\n",
    "\n",
    "# Evaluate the model\n",
    "test_loss, test_acc = model.evaluate(test_images, test_labels)\n",
    "print(f\"Test accuracy: {test_acc}\")\n"
   ]
  },
  {
   "cell_type": "markdown",
   "metadata": {},
   "source": [
    "Mnist arrays data (book)\n",
    "\"DESCR\" description of the dataset\n",
    "\"data\"  The input data, usually as a 2D NumPy array \n",
    "\"target\" The labels, usually as a 1D NumPy array"
   ]
  },
  {
   "cell_type": "code",
   "execution_count": 3,
   "metadata": {},
   "outputs": [
    {
     "name": "stdout",
     "output_type": "stream",
     "text": [
      "[[0 0 0 ... 0 0 0]\n",
      " [0 0 0 ... 0 0 0]\n",
      " [0 0 0 ... 0 0 0]\n",
      " ...\n",
      " [0 0 0 ... 0 0 0]\n",
      " [0 0 0 ... 0 0 0]\n",
      " [0 0 0 ... 0 0 0]]\n",
      "(70000, 784)\n",
      "['5' '0' '4' ... '4' '5' '6']\n",
      "(70000,)\n"
     ]
    }
   ],
   "source": [
    "from sklearn.datasets import fetch_openml\n",
    "#fetch downland the real life dataset returns data frame and labels\n",
    "mnist = fetch_openml('mnist_784', as_frame = False)\n",
    "X, y = mnist.data,mnist.target\n",
    "print(X)\n",
    "print(X.shape)\n",
    "print(y)\n",
    "#70000 images has 784 features (28x28 pixels) pixel's intensity 0-255 (white-balck)\n",
    "print(y.shape)"
   ]
  },
  {
   "cell_type": "markdown",
   "metadata": {},
   "source": [
    "Show number"
   ]
  },
  {
   "cell_type": "code",
   "execution_count": 4,
   "metadata": {},
   "outputs": [
    {
     "data": {
      "image/png": "[encoded data removed]",
      "text/plain": [
       "<Figure size 640x480 with 1 Axes>"
      ]
     },
     "metadata": {},
     "output_type": "display_data"
    },
    {
     "name": "stdout",
     "output_type": "stream",
     "text": [
      "5\n"
     ]
    }
   ],
   "source": [
    "import matplotlib.pyplot as plt\n",
    "\n",
    "def plot_digit(image_data):\n",
    "    image = image_data.reshape(28,28)\n",
    "    plt.imshow(image,cmap=\"binary\") # greyscale color map\n",
    "    plt.axis(\"off\")\n",
    "    \n",
    "#first digit\n",
    "some_digit = X[0]\n",
    "plot_digit(some_digit)\n",
    "\n",
    "#show inverse biggest number black\n",
    "plt.show()\n",
    "\n",
    "#print label\n",
    "print(y[0])\n",
    "\n",
    "# X_train,X_test,y_train,y_test = X[:60000],X[60000:],y[:60000],y[60000:] \n",
    "# # first 60000 number traning data last 10000 test"
   ]
  },
  {
   "cell_type": "markdown",
   "metadata": {},
   "source": [
    "Binary Classifier"
   ]
  },
  {
   "cell_type": "code",
   "execution_count": 5,
   "metadata": {},
   "outputs": [
    {
     "name": "stdout",
     "output_type": "stream",
     "text": [
      "[ True]\n"
     ]
    }
   ],
   "source": [
    "X_train,X_test,y_train,y_test = X[:60000],X[60000:],y[:60000],y[60000:] \n",
    "y_train_5 = (y_train == '5') #True if 5, other Fale if other\n",
    "y_test_5 = (y_test == '5')\n",
    "\n",
    "from sklearn.linear_model import SGDClassifier\n",
    "\n",
    "sgd_clf =SGDClassifier(random_state=42)\n",
    "sgd_clf.fit(X_train,y_train_5)\n",
    "print(sgd_clf.predict([some_digit]))"
   ]
  },
  {
   "cell_type": "markdown",
   "metadata": {},
   "source": [
    "Measuring Accuracy (Cross-Validation)"
   ]
  },
  {
   "cell_type": "code",
   "execution_count": null,
   "metadata": {},
   "outputs": [
    {
     "name": "stdout",
     "output_type": "stream",
     "text": [
      "[0.95035 0.96035 0.9604 ]\n"
     ]
    }
   ],
   "source": [
    "from sklearn.model_selection import cross_val_score\n",
    "#%\n",
    "print(cross_val_score(sgd_clf,X_train,y_train_5, cv= 3, scoring= \"accuracy\"))"
   ]
  },
  {
   "cell_type": "markdown",
   "metadata": {},
   "source": [
    "Salt pepper"
   ]
  },
  {
   "cell_type": "code",
   "execution_count": 4,
   "metadata": {},
   "outputs": [
    {
     "data": {
      "image/png": "[encoded data removed]",
      "text/plain": [
       "<Figure size 1500x300 with 10 Axes>"
      ]
     },
     "metadata": {},
     "output_type": "display_data"
    },
    {
     "data": {
      "image/png": "[encoded data removed]",
      "text/plain": [
       "<Figure size 1500x300 with 10 Axes>"
      ]
     },
     "metadata": {},
     "output_type": "display_data"
    }
   ],
   "source": [
    "from tensorflow.keras.datasets import mnist\n",
    "import numpy as np\n",
    "import matplotlib.pyplot as plt\n",
    "\n",
    "(x_train, y_train), (x_test, y_test) = mnist.load_data()\n",
    "x_train = x_train.astype(\"float32\") / 255.0  # Normalisate\n",
    "x_test = x_test.astype(\"float32\") / 255.0\n",
    "\n",
    "#salt and pepper\n",
    "def add_salt_and_pepper_noise(images, prob=0.05):\n",
    "    noisy_images = images.copy()\n",
    "    for i in range(images.shape[0]):\n",
    "        mask = np.random.choice([0, 1, 2], size=images[i].shape, p=[prob / 2, prob / 2, 1 - prob])\n",
    "        noisy_images[i][mask == 0] = 0.0  \n",
    "        noisy_images[i][mask == 1] = 1.0  \n",
    "    return noisy_images\n",
    "\n",
    "#gaussian noise\n",
    "def add_gaussian_noise(images, mean=0, stddev=0.1):\n",
    "    noise = np.random.normal(mean, stddev, images.shape)\n",
    "    noisy_images = images + noise\n",
    "    return np.clip(noisy_images, 0, 1)\n",
    "\n",
    "# images with gaussian\n",
    "x_train_noisy = add_gaussian_noise(x_train)\n",
    "\n",
    "# images with salt and pepper\n",
    "noisy_images = add_salt_and_pepper_noise(x_test)  \n",
    "\n",
    "# Show images\n",
    "def show_images(images):\n",
    "    fig, axes = plt.subplots(1, 10, figsize=(15, 3))\n",
    "    \n",
    "    for i, ax in enumerate(axes):\n",
    "      ax.imshow(images[i].squeeze(), cmap=\"gray\")  # greysale\n",
    "      ax.axis(\"off\")\n",
    "      \n",
    "    plt.show()\n",
    "    \n",
    "show_images(noisy_images)\n",
    "show_images(x_train_noisy)\n"
   ]
  }
 ],
 "metadata": {
  "kernelspec": {
   "display_name": "venv_py310",
   "language": "python",
   "name": "python3"
  },
  "language_info": {
   "codemirror_mode": {
    "name": "ipython",
    "version": 3
   },
   "file_extension": ".py",
   "mimetype": "text/x-python",
   "name": "python",
   "nbconvert_exporter": "python",
   "pygments_lexer": "ipython3",
   "version": "3.10.0"
  }
 },
 "nbformat": 4,
 "nbformat_minor": 2
}
